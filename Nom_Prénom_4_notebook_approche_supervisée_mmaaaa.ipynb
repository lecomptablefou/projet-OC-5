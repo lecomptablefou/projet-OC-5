{
 "cells": [
  {
   "cell_type": "markdown",
   "id": "c342fc30",
   "metadata": {},
   "source": [
    "# Entrainement des modèles en approche supervisée"
   ]
  },
  {
   "cell_type": "code",
   "execution_count": 1,
   "id": "254f7caa",
   "metadata": {},
   "outputs": [],
   "source": [
    "import pandas as pd\n",
    "import pickle\n",
    "\n",
    "# Chargement des DataFrames à partir des fichiers pickle\n",
    "filtered_tokenized_vs_original = pd.read_pickle('filtered_tokenized_vs_original.pkl')\n",
    "top200_tags = pd.read_pickle('top200_tags.pkl')\n",
    "tfidf_data = pd.read_pickle('tfidf_data.pkl')\n",
    "first_200_tags = pd.read_pickle('first_200_tags.pkl')\n",
    "tfidf_vectorizer = pd.read_pickle('tfidf_vectorizer.pkl')\n",
    "vocabulary = pd.read_pickle('vocabulary.pkl')"
   ]
  },
  {
   "cell_type": "code",
   "execution_count": 15,
   "id": "0a5e0cf2",
   "metadata": {},
   "outputs": [
    {
     "data": {
      "text/html": [
       "<div>\n",
       "<style scoped>\n",
       "    .dataframe tbody tr th:only-of-type {\n",
       "        vertical-align: middle;\n",
       "    }\n",
       "\n",
       "    .dataframe tbody tr th {\n",
       "        vertical-align: top;\n",
       "    }\n",
       "\n",
       "    .dataframe thead th {\n",
       "        text-align: right;\n",
       "    }\n",
       "</style>\n",
       "<table border=\"1\" class=\"dataframe\">\n",
       "  <thead>\n",
       "    <tr style=\"text-align: right;\">\n",
       "      <th></th>\n",
       "      <th>Post</th>\n",
       "      <th>splitted_text</th>\n",
       "      <th>splitted_tags</th>\n",
       "    </tr>\n",
       "  </thead>\n",
       "  <tbody>\n",
       "    <tr>\n",
       "      <th>6</th>\n",
       "      <td>react router v5 2   blocking route change with...</td>\n",
       "      <td>[image, class, code, image, code, display, ima...</td>\n",
       "      <td>[reactjs, next, tailwind, nextjs, image]</td>\n",
       "    </tr>\n",
       "    <tr>\n",
       "      <th>12</th>\n",
       "      <td>rolling idxmin max for pandas dataframe  p i b...</td>\n",
       "      <td>[validity, lifetime, extension, initializer, i...</td>\n",
       "      <td>[language, lawyer, lifetime, temporary, object]</td>\n",
       "    </tr>\n",
       "    <tr>\n",
       "      <th>15</th>\n",
       "      <td>process finished with exit code 137  interrupt...</td>\n",
       "      <td>[solidity, star, name, address, contract, soli...</td>\n",
       "      <td>[blockchain, ethereum, solidity, smartcontracts]</td>\n",
       "    </tr>\n",
       "    <tr>\n",
       "      <th>26</th>\n",
       "      <td>flutter web   text field scrolls instead of se...</td>\n",
       "      <td>[error, flutter, video, player, player, chewie...</td>\n",
       "      <td>[flutter, dart, flutter, video, player]</td>\n",
       "    </tr>\n",
       "    <tr>\n",
       "      <th>48</th>\n",
       "      <td>can t scrape all the company names from a webp...</td>\n",
       "      <td>[memory, base, address, code, post, bootloader...</td>\n",
       "      <td>[linux, linux, kernel, kernel, architecture]</td>\n",
       "    </tr>\n",
       "    <tr>\n",
       "      <th>...</th>\n",
       "      <td>...</td>\n",
       "      <td>...</td>\n",
       "      <td>...</td>\n",
       "    </tr>\n",
       "    <tr>\n",
       "      <th>21763</th>\n",
       "      <td>NaN</td>\n",
       "      <td>[event, javascript, href, shake, event, javasc...</td>\n",
       "      <td>[javascript, mobile, accelerometer, shake]</td>\n",
       "    </tr>\n",
       "    <tr>\n",
       "      <th>21764</th>\n",
       "      <td>NaN</td>\n",
       "      <td>[practice, session, project, company, minute, ...</td>\n",
       "      <td>[nuxt]</td>\n",
       "    </tr>\n",
       "    <tr>\n",
       "      <th>21765</th>\n",
       "      <td>NaN</td>\n",
       "      <td>[gesture, course, mosh, href, http, codewithmo...</td>\n",
       "      <td>[javascript, android, react, native, expo, ges...</td>\n",
       "    </tr>\n",
       "    <tr>\n",
       "      <th>21766</th>\n",
       "      <td>NaN</td>\n",
       "      <td>[image, treeline, crop, direction, crop, hough...</td>\n",
       "      <td>[python, numpy, opencv, hough, transform]</td>\n",
       "    </tr>\n",
       "    <tr>\n",
       "      <th>21767</th>\n",
       "      <td>NaN</td>\n",
       "      <td>[python, soup, column, code, player, data, dat...</td>\n",
       "      <td>[python, python, beautifulsoup]</td>\n",
       "    </tr>\n",
       "  </tbody>\n",
       "</table>\n",
       "<p>41371 rows × 3 columns</p>\n",
       "</div>"
      ],
      "text/plain": [
       "                                                    Post  \\\n",
       "6      react router v5 2   blocking route change with...   \n",
       "12     rolling idxmin max for pandas dataframe  p i b...   \n",
       "15     process finished with exit code 137  interrupt...   \n",
       "26     flutter web   text field scrolls instead of se...   \n",
       "48     can t scrape all the company names from a webp...   \n",
       "...                                                  ...   \n",
       "21763                                                NaN   \n",
       "21764                                                NaN   \n",
       "21765                                                NaN   \n",
       "21766                                                NaN   \n",
       "21767                                                NaN   \n",
       "\n",
       "                                           splitted_text  \\\n",
       "6      [image, class, code, image, code, display, ima...   \n",
       "12     [validity, lifetime, extension, initializer, i...   \n",
       "15     [solidity, star, name, address, contract, soli...   \n",
       "26     [error, flutter, video, player, player, chewie...   \n",
       "48     [memory, base, address, code, post, bootloader...   \n",
       "...                                                  ...   \n",
       "21763  [event, javascript, href, shake, event, javasc...   \n",
       "21764  [practice, session, project, company, minute, ...   \n",
       "21765  [gesture, course, mosh, href, http, codewithmo...   \n",
       "21766  [image, treeline, crop, direction, crop, hough...   \n",
       "21767  [python, soup, column, code, player, data, dat...   \n",
       "\n",
       "                                           splitted_tags  \n",
       "6               [reactjs, next, tailwind, nextjs, image]  \n",
       "12       [language, lawyer, lifetime, temporary, object]  \n",
       "15      [blockchain, ethereum, solidity, smartcontracts]  \n",
       "26               [flutter, dart, flutter, video, player]  \n",
       "48          [linux, linux, kernel, kernel, architecture]  \n",
       "...                                                  ...  \n",
       "21763         [javascript, mobile, accelerometer, shake]  \n",
       "21764                                             [nuxt]  \n",
       "21765  [javascript, android, react, native, expo, ges...  \n",
       "21766          [python, numpy, opencv, hough, transform]  \n",
       "21767                    [python, python, beautifulsoup]  \n",
       "\n",
       "[41371 rows x 3 columns]"
      ]
     },
     "execution_count": 15,
     "metadata": {},
     "output_type": "execute_result"
    }
   ],
   "source": [
    "filtered_tokenized_vs_original"
   ]
  },
  {
   "cell_type": "markdown",
   "id": "c66faabb",
   "metadata": {},
   "source": [
    "# Dédoublonnage des labels"
   ]
  },
  {
   "cell_type": "code",
   "execution_count": 2,
   "id": "88bdc053",
   "metadata": {},
   "outputs": [
    {
     "name": "stdout",
     "output_type": "stream",
     "text": [
      "Affichage de la première occurence de dedup_tags\n"
     ]
    },
    {
     "data": {
      "text/plain": [
       "{'javascript', 'react', 'reactjs', 'router'}"
      ]
     },
     "metadata": {},
     "output_type": "display_data"
    }
   ],
   "source": [
    "dedup_tags = []\n",
    "for tags in top200_tags:\n",
    "    dedup_tags.append(set(tags))\n",
    "\n",
    "print('Affichage de la première occurence de dedup_tags')\n",
    "display(dedup_tags[0])"
   ]
  },
  {
   "cell_type": "markdown",
   "id": "51fbdcca",
   "metadata": {},
   "source": [
    "# split des données en train/test"
   ]
  },
  {
   "cell_type": "code",
   "execution_count": 3,
   "id": "887766a9",
   "metadata": {},
   "outputs": [],
   "source": [
    "from sklearn.model_selection import train_test_split\n",
    "X_train, X_test, y_train, y_test = train_test_split(tfidf_data, dedup_tags, test_size=0.2, random_state=42)"
   ]
  },
  {
   "cell_type": "markdown",
   "id": "e15e6401",
   "metadata": {},
   "source": [
    "# Réduction des données"
   ]
  },
  {
   "cell_type": "code",
   "execution_count": 4,
   "id": "fb9d6fe3",
   "metadata": {},
   "outputs": [
    {
     "data": {
      "image/png": "[encoded data removed]",
      "text/plain": [
       "<Figure size 640x480 with 1 Axes>"
      ]
     },
     "metadata": {},
     "output_type": "display_data"
    }
   ],
   "source": [
    "from sklearn.decomposition import PCA\n",
    "import matplotlib.pyplot as plt\n",
    "import numpy as np\n",
    "\n",
    "pca = PCA(random_state=42)\n",
    "pca.fit(X_train)\n",
    "\n",
    "def display_scree_plot(pca):\n",
    "    scree = pca.explained_variance_ratio_*100\n",
    "    plt.bar(np.arange(len(scree))+1, scree)\n",
    "    plt.plot(np.arange(len(scree))+1, scree.cumsum(),c=\"red\",marker='o')\n",
    "    plt.xlabel(\"rang de l'axe d'inertie\")\n",
    "    plt.ylabel(\"pourcentage d'inertie\")\n",
    "    plt.title(\"Eboulis des valeurs propres\")\n",
    "    plt.show(block=False)\n",
    "\n",
    "display_scree_plot(pca)"
   ]
  },
  {
   "cell_type": "markdown",
   "id": "30de8dc9",
   "metadata": {},
   "source": [
    "# pca avec 85% de la variance "
   ]
  },
  {
   "cell_type": "code",
   "execution_count": 6,
   "id": "0be9392d",
   "metadata": {},
   "outputs": [
    {
     "name": "stdout",
     "output_type": "stream",
     "text": [
      "Nombre de composantes principales: 194\n"
     ]
    }
   ],
   "source": [
    "import pickle \n",
    "import os\n",
    "pca = PCA(n_components=0.85, random_state=42)\n",
    "pca.fit(X_train)\n",
    "X_train_transformed = pca.transform(X_train)\n",
    "X_test_transformed = pca.transform(X_test)\n",
    "print(f\"Nombre de composantes principales: {pca.components_.shape[0]}\")\n",
    "\n",
    "\n",
    "save_directory = \"C:\\\\Users\\\\etern\\\\base Deep learning\\\\projet 5\\\\data\"\n",
    "filename_pca_model = os.path.join(save_directory, 'pca_model.pkl')\n",
    "with open(filename_pca_model, 'wb') as file:\n",
    "    pickle.dump(pca, file)"
   ]
  },
  {
   "cell_type": "markdown",
   "id": "0e13af1b",
   "metadata": {},
   "source": [
    "# Vectorisaton des labels"
   ]
  },
  {
   "cell_type": "code",
   "execution_count": 7,
   "id": "ff01690a",
   "metadata": {},
   "outputs": [
    {
     "name": "stdout",
     "output_type": "stream",
     "text": [
      "Affichage des classes du modèle de vectorisation\n"
     ]
    },
    {
     "data": {
      "text/plain": [
       "array(['python', 'android', 'javascript', 'java', 'google', 'reactjs',\n",
       "       'react', 'studio', 'flutter', 'azure', 'amazon', 'node', 'spring',\n",
       "       'docker', 'visual', 'core', 'compose', 'typescript', 'cloud',\n",
       "       'service', 'firebase', 'kotlin', 'jetpack', 'code', 'swift',\n",
       "       'native', 'next', 'github', 'angular', 'html', 'django',\n",
       "       'kubernetes', 'boot', 'data', 'window', 'apache', 'macos', 'dart',\n",
       "       'linux', 'language', 'type', 'laravel', 'function', 'swiftui',\n",
       "       'xcode', 'testing', 'gradle', 'framework', 'server', 'lawyer',\n",
       "       'panda', 'chrome', 'algorithm', 'template', 'platform', 'json',\n",
       "       'webpack', 'ruby', 'spark', 'array', 'tensorflow', 'rust', 'apple',\n",
       "       'performance', 'gitlab', 'postgresql', 'router', 'memory',\n",
       "       'blazor', 'numpy', 'lambda', 'module', 'selenium', 'navigation',\n",
       "       'rail', 'authentication', 'action', 'material', 'image',\n",
       "       'dataframe', 'learning', 'scala', 'hook', 'redux', 'optimization',\n",
       "       'entity', 'ubuntu', 'list', 'library', 'dependency', 'terraform',\n",
       "       'vuejs', 'mongodb', 'security', 'extension', 'play',\n",
       "       'multithreading', 'powershell', 'jestjs', 'maven', 'package',\n",
       "       'string', 'http', 'devops', 'processing', 'database', 'nginx',\n",
       "       'pipeline', 'oauth', 'unit', 'jupyter', 'programming', 'pytorch',\n",
       "       'plugin', 'assembly', 'machine', 'graph', 'build', 'engine',\n",
       "       'express', 'mysql', 'compiler', 'opencv', 'plotly', 'file',\n",
       "       'haskell', 'async', 'component', 'pyspark', 'excel', 'error',\n",
       "       'storage', 'stream', 'bootstrap', 'rest', 'form', 'await',\n",
       "       'console', 'firestore', 'kafka', 'tailwind', 'generic', 'manager',\n",
       "       'loop', 'asynchronous', 'layout', 'variable', 'clang', 'expo',\n",
       "       'kera', 'xamarin', 'time', 'typing', 'notification', 'deep',\n",
       "       'system', 'model', 'bash', 'class', 'side', 'eslint', 'swagger',\n",
       "       'webassembly', 'vscode', 'fastapi', 'intellij', 'microsoft',\n",
       "       'architecture', 'pointer', 'graphql', 'table', 'nestjs',\n",
       "       'notebook', 'nuxt', 'jquery', 'text', 'interface', 'apps', 'axios',\n",
       "       'operator', 'static', 'databricks', 'object', 'request',\n",
       "       'analytics', 'idea', 'design', 'discord', 'dockerfile',\n",
       "       'matplotlib', 'query', 'integration', 'script', 'flask', 'client',\n",
       "       'environment', 'sas', 'provider', 'user', 'scikit'], dtype=object)"
      ]
     },
     "metadata": {},
     "output_type": "display_data"
    }
   ],
   "source": [
    "import os\n",
    "import pickle\n",
    "from sklearn.preprocessing import MultiLabelBinarizer\n",
    "\n",
    "\n",
    "# Création et ajustement du modèle MultiLabelBinarizer\n",
    "mlb = MultiLabelBinarizer(classes=first_200_tags)\n",
    "train_labels = mlb.fit_transform(y_train)\n",
    "test_labels = mlb.transform(y_test)\n",
    "\n",
    "# Affichage des classes du modèle de vectorisation\n",
    "print(\"Affichage des classes du modèle de vectorisation\")\n",
    "display(mlb.classes_)\n",
    "\n",
    "# Spécification du répertoire de sauvegarde\n",
    "save_directory = \"C:\\\\Users\\\\etern\\\\base Deep learning\\\\projet 5\\\\data\"\n",
    "os.makedirs(save_directory, exist_ok=True)  # Crée le répertoire s'il n'existe pas déjà\n",
    "\n",
    "# Enregistrement du modèle MultiLabelBinarizer\n",
    "filename_mlb_model = os.path.join(save_directory, 'mlb_model.pkl')\n",
    "with open(filename_mlb_model, 'wb') as file:\n",
    "    pickle.dump(mlb, file)"
   ]
  },
  {
   "cell_type": "markdown",
   "id": "0a7fdc35",
   "metadata": {},
   "source": [
    "# Fonction d'évaluation des modèles"
   ]
  },
  {
   "cell_type": "code",
   "execution_count": 8,
   "id": "8f9a0e11",
   "metadata": {},
   "outputs": [],
   "source": [
    "from sklearn.metrics import accuracy_score, precision_score, recall_score, f1_score, confusion_matrix, hamming_loss\n",
    "\n",
    "models_performance = {}\n",
    "\n",
    "def metrics_report(model_name, test_labels, predictions, performances):\n",
    "    \"\"\"\n",
    "    Compute performance metrics of a model and store them in a dictionary\n",
    "    \n",
    "    Args:\n",
    "        model_name(string): name of the evaluated model\n",
    "        test_labels(array): labels related to predictors\n",
    "        preductions(array): predicted results\n",
    "        performances(dict): used dictionary to store metrics\n",
    "    Returns:\n",
    "        performances(dict): used dictionary to store metrics filed with models ones\n",
    "    \"\"\"    \n",
    "    accuracy = accuracy_score(test_labels, predictions)\n",
    "    macro_precision = precision_score(test_labels, predictions, average='macro')\n",
    "    macro_recall = recall_score(test_labels, predictions, average='macro')\n",
    "    macro_f1 = f1_score(test_labels, predictions, average='macro')\n",
    "    micro_precision = precision_score(test_labels, predictions, average='micro')\n",
    "    micro_recall = recall_score(test_labels, predictions, average='micro')\n",
    "    micro_f1 = f1_score(test_labels, predictions, average='micro')\n",
    "    hamLoss = hamming_loss(test_labels, predictions)\n",
    "    print(\"------\" + model_name + \" Model Metrics-----\")\n",
    "    print(\"Accuracy: {:.4f}\\nHamming Loss: {:.4f}\\nPrecision:\\n  - Macro: {:.4f}\\n  - Micro: {:.4f}\\nRecall:\\n  - Macro: {:.4f}\\n  - Micro: {:.4f}\\nF1-measure:\\n  - Macro: {:.4f}\\n  - Micro: {:.4f}\"\\\n",
    "          .format(accuracy, hamLoss, macro_precision, micro_precision, macro_recall, micro_recall, macro_f1, micro_f1))\n",
    "    \n",
    "    performances[model_name] = {}\n",
    "    performances[model_name][\"micro_precision\"] =  micro_precision\n",
    "    performances[model_name][\"micro_recall\"] = micro_recall\n",
    "    performances[model_name][\"micro_f1\"] = micro_f1\n",
    "    \n",
    "    return performances"
   ]
  },
  {
   "cell_type": "code",
   "execution_count": null,
   "id": "92b86cb5",
   "metadata": {},
   "outputs": [],
   "source": [
    "\n"
   ]
  },
  {
   "cell_type": "markdown",
   "id": "620e0c10",
   "metadata": {},
   "source": [
    "# KNN"
   ]
  },
  {
   "cell_type": "code",
   "execution_count": 11,
   "id": "a19c3090",
   "metadata": {},
   "outputs": [
    {
     "name": "stderr",
     "output_type": "stream",
     "text": [
      "C:\\Users\\etern\\anaconda3v2\\Lib\\site-packages\\sklearn\\metrics\\_classification.py:1469: UndefinedMetricWarning: Precision is ill-defined and being set to 0.0 in labels with no predicted samples. Use `zero_division` parameter to control this behavior.\n",
      "  _warn_prf(average, modifier, msg_start, len(result))\n"
     ]
    },
    {
     "name": "stdout",
     "output_type": "stream",
     "text": [
      "------knn Model Metrics-----\n",
      "Accuracy: 0.0638\n",
      "Hamming Loss: 0.0119\n",
      "Precision:\n",
      "  - Macro: 0.3722\n",
      "  - Micro: 0.6446\n",
      "Recall:\n",
      "  - Macro: 0.1090\n",
      "  - Micro: 0.1921\n",
      "F1-measure:\n",
      "  - Macro: 0.1572\n",
      "  - Micro: 0.2960\n"
     ]
    }
   ],
   "source": [
    "from sklearn.neighbors import KNeighborsClassifier\n",
    "import mlflow\n",
    "import mlflow.sklearn\n",
    "from sklearn.metrics import accuracy_score, precision_score, recall_score, f1_score, confusion_matrix, hamming_loss\n",
    "import time\n",
    "\n",
    "# Définissez le nom de l'expérience (facultatif)\n",
    "mlflow.set_experiment(\"KNN\")\n",
    "\n",
    "# ...\n",
    "\n",
    "\n",
    "# Démarrez une expérience MLflow\n",
    "with mlflow.start_run():\n",
    "\n",
    "    # Enregistrez le temps de début\n",
    "    start_time = time.time()\n",
    "\n",
    "    # Votre code\n",
    "    knn_clf = KNeighborsClassifier()\n",
    "    knn_clf.fit(X_train_transformed, train_labels)\n",
    "    knn_predictions = knn_clf.predict(X_test_transformed)\n",
    "    \n",
    "    # Appel de la fonction metrics_report\n",
    "    models_performance = metrics_report(\"knn\", test_labels, knn_predictions, models_performance)\n",
    "    \n",
    "    # Enregistrez les métriques dans MLflow\n",
    "    mlflow.log_metrics(models_performance[\"knn\"])\n",
    "    \n",
    "    # Enregistrez le modèle dans MLflow\n",
    "    mlflow.sklearn.log_model(knn_clf, \"model\")\n",
    "\n",
    "    # Enregistrez le temps de fin\n",
    "    end_time = time.time()\n",
    "\n",
    "    # Calcul du temps total d'exécution\n",
    "    execution_time = end_time - start_time\n",
    "\n",
    "    # Enregistrez le temps d'exécution dans MLflow en tant que métrique\n",
    "    mlflow.log_metric(\"execution_time\", execution_time)\n",
    "\n",
    "# Fin de l'expérience MLflow\n",
    "mlflow.end_run()\n",
    "\n"
   ]
  },
  {
   "cell_type": "markdown",
   "id": "37979029",
   "metadata": {},
   "source": [
    "# SVM"
   ]
  },
  {
   "cell_type": "code",
   "execution_count": 14,
   "id": "17cf18e8",
   "metadata": {},
   "outputs": [
    {
     "name": "stderr",
     "output_type": "stream",
     "text": [
      "C:\\Users\\etern\\anaconda3v2\\Lib\\site-packages\\sklearn\\metrics\\_classification.py:1469: UndefinedMetricWarning: Precision is ill-defined and being set to 0.0 in labels with no predicted samples. Use `zero_division` parameter to control this behavior.\n",
      "  _warn_prf(average, modifier, msg_start, len(result))\n"
     ]
    },
    {
     "name": "stdout",
     "output_type": "stream",
     "text": [
      "------svm Model Metrics-----\n",
      "Accuracy: 0.0845\n",
      "Hamming Loss: 0.0107\n",
      "Precision:\n",
      "  - Macro: 0.3431\n",
      "  - Micro: 0.7865\n",
      "Recall:\n",
      "  - Macro: 0.1228\n",
      "  - Micro: 0.2450\n",
      "F1-measure:\n",
      "  - Macro: 0.1656\n",
      "  - Micro: 0.3736\n"
     ]
    },
    {
     "name": "stderr",
     "output_type": "stream",
     "text": [
      "Successfully registered model 'SVM_Model'.\n",
      "Created version '1' of model 'SVM_Model'.\n"
     ]
    }
   ],
   "source": [
    "from sklearn.svm import LinearSVC\n",
    "from sklearn.multiclass import OneVsRestClassifier\n",
    "import mlflow\n",
    "import mlflow.sklearn\n",
    "import time\n",
    "\n",
    "# Démarrez une expérience MLflow pour le modèle SVM\n",
    "mlflow.set_experiment(\"SVM\")\n",
    "with mlflow.start_run():\n",
    "\n",
    "    # Enregistrez le temps de début\n",
    "    start_time = time.time()\n",
    "\n",
    "    # Votre code\n",
    "    svm_clf = OneVsRestClassifier(LinearSVC(), n_jobs=-1)\n",
    "    svm_clf.fit(X_train_transformed, train_labels)\n",
    "    svm_preds = svm_clf.predict(X_test_transformed)\n",
    "\n",
    "    # Appel de la fonction metrics_report pour SVM\n",
    "    models_performance = metrics_report(\"svm\", test_labels, svm_preds, models_performance)\n",
    "\n",
    "    # Enregistrez les métriques dans MLflow\n",
    "    mlflow.log_metrics(models_performance[\"svm\"])\n",
    "\n",
    "    # Enregistrez le modèle dans MLflow\n",
    "    mlflow.sklearn.log_model(svm_clf, \"model\")\n",
    "\n",
    "    # Enregistrez le temps de fin\n",
    "    end_time = time.time()\n",
    "\n",
    "    # Calcul du temps total d'exécution\n",
    "    execution_time = end_time - start_time\n",
    "\n",
    "    # Enregistrez le temps d'exécution dans MLflow en tant que métrique\n",
    "    mlflow.log_metric(\"execution_time\", execution_time)\n",
    "\n",
    "    # Enregistrez le modèle dans le Model Registry\n",
    "    mlflow.register_model(f\"runs:/{mlflow.active_run().info.run_id}/model\", \"SVM_Model\")\n"
   ]
  },
  {
   "cell_type": "markdown",
   "id": "8277ba8b",
   "metadata": {},
   "source": [
    "# Random Forest"
   ]
  },
  {
   "cell_type": "code",
   "execution_count": 13,
   "id": "dfcd1061",
   "metadata": {},
   "outputs": [
    {
     "name": "stderr",
     "output_type": "stream",
     "text": [
      "2024/03/04 14:15:05 INFO mlflow.tracking.fluent: Experiment with name 'Random Forest' does not exist. Creating a new experiment.\n",
      "C:\\Users\\etern\\anaconda3v2\\Lib\\site-packages\\sklearn\\metrics\\_classification.py:1469: UndefinedMetricWarning: Precision is ill-defined and being set to 0.0 in labels with no predicted samples. Use `zero_division` parameter to control this behavior.\n",
      "  _warn_prf(average, modifier, msg_start, len(result))\n"
     ]
    },
    {
     "name": "stdout",
     "output_type": "stream",
     "text": [
      "------Random Forest Model Metrics-----\n",
      "Accuracy: 0.0331\n",
      "Hamming Loss: 0.0120\n",
      "Precision:\n",
      "  - Macro: 0.1749\n",
      "  - Micro: 0.8834\n",
      "Recall:\n",
      "  - Macro: 0.0271\n",
      "  - Micro: 0.0851\n",
      "F1-measure:\n",
      "  - Macro: 0.0426\n",
      "  - Micro: 0.1553\n"
     ]
    }
   ],
   "source": [
    "from sklearn.ensemble import RandomForestClassifier\n",
    "import mlflow\n",
    "import mlflow.sklearn\n",
    "import time\n",
    "\n",
    "# ...\n",
    "mlflow.set_experiment(\"Random Forest\")\n",
    "# Démarrez une expérience MLflow pour le modèle Random Forest\n",
    "with mlflow.start_run():\n",
    "\n",
    "    # Enregistrez le temps de début\n",
    "    start_time = time.time()\n",
    "\n",
    "    # Votre code\n",
    "    rf_clf = RandomForestClassifier(n_jobs=-1)\n",
    "    rf_clf.fit(X_train_transformed, train_labels)\n",
    "    rf_preds = rf_clf.predict(X_test_transformed)\n",
    "\n",
    "    # Appel de la fonction metrics_report pour le Random Forest\n",
    "    models_performance = metrics_report(\"Random Forest\", test_labels, rf_preds, models_performance)\n",
    "\n",
    "    # Enregistrez les métriques dans MLflow\n",
    "    mlflow.log_metrics(models_performance[\"Random Forest\"])\n",
    "\n",
    "    # Enregistrez le modèle dans MLflow\n",
    "    mlflow.sklearn.log_model(rf_clf, \"model\")\n",
    "\n",
    "    # Enregistrez le temps de fin\n",
    "    end_time = time.time()\n",
    "\n",
    "    # Calcul du temps total d'exécution\n",
    "    execution_time = end_time - start_time\n",
    "\n",
    "    # Enregistrez le temps d'exécution dans MLflow en tant que métrique\n",
    "    mlflow.log_metric(\"execution_time\", execution_time)\n",
    "\n",
    "# Fin de l'expérience MLflow\n",
    "mlflow.end_run()\n"
   ]
  },
  {
   "cell_type": "markdown",
   "id": "1311045c",
   "metadata": {},
   "source": [
    "# affichage résultats"
   ]
  },
  {
   "cell_type": "code",
   "execution_count": null,
   "id": "3da49944",
   "metadata": {},
   "outputs": [],
   "source": [
    "result_df = pd.DataFrame.from_dict(models_performance, orient=\"index\")\n",
    "result_df"
   ]
  },
  {
   "cell_type": "markdown",
   "id": "0f7108a1",
   "metadata": {},
   "source": [
    "# sauvegarde meilleurs modèles: random forest"
   ]
  },
  {
   "cell_type": "code",
   "execution_count": null,
   "id": "558ac40a",
   "metadata": {},
   "outputs": [],
   "source": [
    "save_directory = \"C:\\\\Users\\\\etern\\\\base Deep learning\\\\projet 5\\\\data\"\n",
    "filename_svm_model = os.path.join(save_directory, 'svm_model.pkl')\n",
    "with open(filename_svm_model, 'wb') as file:\n",
    "    pickle.dump(svm_clf, file)\n"
   ]
  },
  {
   "cell_type": "markdown",
   "id": "b160aec2",
   "metadata": {},
   "source": [
    "# Fonction de prédiction"
   ]
  },
  {
   "cell_type": "code",
   "execution_count": null,
   "id": "2aaaed61",
   "metadata": {},
   "outputs": [],
   "source": [
    "%%time\n",
    "def predict_supervised_tags(supervised_model, mlb_model, text):\n",
    "    \"\"\"\n",
    "    Predict tags according to a lemmatized text using a supervied model.\n",
    "    \n",
    "    Args:\n",
    "        supervised_model(): Used mode to get prediction\n",
    "        mlb_model(): Used model to detransform\n",
    "    Returns:\n",
    "        res(list): List of predicted tags\n",
    "    \"\"\"\n",
    "    res = tfidf_vectorizer.transform(text)\n",
    "    res = pd.DataFrame(res.toarray(), columns=vocabulary)\n",
    "    res = pca.transform(res)\n",
    "    res = supervised_model.predict(res)\n",
    "    res = mlb.inverse_transform(res)\n",
    "    res = list({tag for tag_list in res for tag in tag_list if (len(tag_list) != 0)})\n",
    "    res = [tag for tag  in res if tag in text]\n",
    "    \n",
    "    return res"
   ]
  },
  {
   "cell_type": "markdown",
   "id": "7ad3f0e1",
   "metadata": {},
   "source": [
    "# Fonction de vérification"
   ]
  },
  {
   "cell_type": "code",
   "execution_count": null,
   "id": "bc99b6af",
   "metadata": {},
   "outputs": [],
   "source": [
    "filtered_tokenized_vs_original_1 = filtered_tokenized_vs_original.dropna(subset=['Post']).reset_index(drop=True)\n"
   ]
  },
  {
   "cell_type": "code",
   "execution_count": null,
   "id": "1d239bb0",
   "metadata": {},
   "outputs": [],
   "source": [
    "def check_tag_predction(original_text, original_tags, preprocessed_text, model):\n",
    "    \"\"\"\n",
    "    Check original tags vs predicted tags for a post.\n",
    "    \n",
    "    Args:\n",
    "        post(list) : original text\n",
    "        original_tags(list) : preprocessed_tags\n",
    "    \"\"\"\n",
    "    \n",
    "    predicted_tags = predict_supervised_tags(model, mlb, preprocessed_text)\n",
    "    print(\"Publication originale: \\n\")\n",
    "    print(f\"{original_text}\")\n",
    "    print(\"\\n\")\n",
    "    print(f\"Liste des tags pré-traités utilisés par l'utilisateur: {original_tags}\")\n",
    "    print(\"\\n\")\n",
    "    print(f\"Liste des tags prédits par le modèle: {predicted_tags}\")\n",
    "\n",
    "check_tag_predction(filtered_tokenized_vs_original_1.loc[100,'Post'], \n",
    "                filtered_tokenized_vs_original.loc[100,'splitted_tags'],\n",
    "                filtered_tokenized_vs_original.loc[100,'splitted_text'],\n",
    "                svm_clf)"
   ]
  },
  {
   "cell_type": "code",
   "execution_count": null,
   "id": "3238e391",
   "metadata": {},
   "outputs": [],
   "source": [
    "pca"
   ]
  },
  {
   "cell_type": "code",
   "execution_count": null,
   "id": "31e0dad6",
   "metadata": {},
   "outputs": [],
   "source": [
    "import pickle\n",
    "\n",
    "# Sauvegarde du modèle SVM avec pickle\n",
    "with open('svm_clf.pkl', 'wb') as f:\n",
    "    pickle.dump(svm_clf, f)\n",
    "\n",
    "\n",
    "with open('mlb.pkl', 'wb') as f:\n",
    "    pickle.dump(mlb, f)\n",
    "    \n",
    "with open('pca.pkl', 'wb') as f:\n",
    "    pickle.dump(pca, f)\n",
    "        "
   ]
  },
  {
   "cell_type": "code",
   "execution_count": null,
   "id": "e39a264a",
   "metadata": {},
   "outputs": [],
   "source": []
  }
 ],
 "metadata": {
  "kernelspec": {
   "display_name": "Python 3 (ipykernel)",
   "language": "python",
   "name": "python3"
  },
  "language_info": {
   "codemirror_mode": {
    "name": "ipython",
    "version": 3
   },
   "file_extension": ".py",
   "mimetype": "text/x-python",
   "name": "python",
   "nbconvert_exporter": "python",
   "pygments_lexer": "ipython3",
   "version": "3.11.4"
  }
 },
 "nbformat": 4,
 "nbformat_minor": 5
}
